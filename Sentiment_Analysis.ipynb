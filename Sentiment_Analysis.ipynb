{
  "nbformat": 4,
  "nbformat_minor": 0,
  "metadata": {
    "colab": {
      "provenance": [],
      "include_colab_link": true
    },
    "kernelspec": {
      "name": "python3",
      "display_name": "Python 3"
    },
    "language_info": {
      "name": "python"
    }
  },
  "cells": [
    {
      "cell_type": "markdown",
      "metadata": {
        "id": "view-in-github",
        "colab_type": "text"
      },
      "source": [
        "<a href=\"https://colab.research.google.com/github/habiclaude88/Sentiment_Analysis/blob/main/Sentiment_Analysis.ipynb\" target=\"_parent\"><img src=\"https://colab.research.google.com/assets/colab-badge.svg\" alt=\"Open In Colab\"/></a>"
      ]
    },
    {
      "cell_type": "code",
      "metadata": {
        "colab": {
          "base_uri": "https://localhost:8080/"
        },
        "id": "ME2lAdqeSSAs",
        "outputId": "7af4ed43-cb5d-4382-dd28-c1f48b3a2c56"
      },
      "source": [
        "from google.colab import drive\n",
        "drive.mount('/content/gdrive')"
      ],
      "execution_count": null,
      "outputs": [
        {
          "output_type": "stream",
          "name": "stdout",
          "text": [
            "Mounted at /content/gdrive\n"
          ]
        }
      ]
    },
    {
      "cell_type": "code",
      "metadata": {
        "colab": {
          "base_uri": "https://localhost:8080/"
        },
        "id": "wDV7hNIzSkY4",
        "outputId": "03d95b19-0e3f-4e6f-8cda-d4dc0ead1e14"
      },
      "source": [
        "import os\n",
        "os.chdir(\"/content/gdrive/My Drive/Colab Notebooks\")\n",
        "!ls"
      ],
      "execution_count": null,
      "outputs": [
        {
          "output_type": "stream",
          "name": "stdout",
          "text": [
            " cloneproject.ipynb\t\t\t   NLP\n",
            "'Copy of dataprcessing_ProjectKRY.ipynb'   nlp_training_ff_giz\n",
            "'Copy of FSE_COLAB_INSTALL.ipynb'\t   quotes2.txt\n",
            "'Copy of textgenerator.ipynb'\t\t   quotes.txt\n",
            " dataprcessing_ProjectKRY.ipynb\t\t   Recommendation\n",
            " Fraud\t\t\t\t\t   Test.ipynb\n",
            " IMDB\t\t\t\t\t   text_generationGRU.ipynb\n",
            " IWD.ipynb\t\t\t\t   textgenerator.ipynb\n",
            "'KAMITI Messages.xlsx'\t\t\t   training\n",
            "'language model.ipynb'\t\t\t   Untitled0.ipynb\n",
            " masakhane\t\t\t\t   Untitled1.ipynb\n",
            " news.ipynb\t\t\t\t   Untitled2.ipynb\n"
          ]
        }
      ]
    },
    {
      "cell_type": "code",
      "metadata": {
        "id": "SbuM96aISuZN"
      },
      "source": [
        "#Load libraries\n",
        "import pandas as pd"
      ],
      "execution_count": null,
      "outputs": []
    },
    {
      "cell_type": "code",
      "metadata": {
        "id": "obqVaWcoWqOJ"
      },
      "source": [
        "import os\n",
        "os.chdir(\"\")\n",
        "#!unzip amazon_baby.zip"
      ],
      "execution_count": null,
      "outputs": []
    },
    {
      "cell_type": "code",
      "metadata": {
        "colab": {
          "base_uri": "https://localhost:8080/"
        },
        "id": "sXx9F3QSrEWh",
        "outputId": "4f5664d5-8022-4e99-9e4c-eb0225bf2be6"
      },
      "source": [
        "!ls"
      ],
      "execution_count": null,
      "outputs": [
        {
          "output_type": "stream",
          "name": "stdout",
          "text": [
            "amazon_baby.csv  Bible.txt\t\tCOVID-19_English.pdf  logistic.pkl\n",
            "amazon_baby.zip  countvector.pkl\tigihearticle.csv      rbc_tweets.csv\n",
            "bbc.csv\t\t COVID-19_English.docx\tigihelinks.csv\t      Test_Json.json\n"
          ]
        }
      ]
    },
    {
      "cell_type": "code",
      "metadata": {
        "id": "2Ab4gbqFTK0a"
      },
      "source": [
        "#Get data\n",
        "def extractData(filepath,fileformat):\n",
        "  if fileformat == 'csv':\n",
        "    data = pd.read_csv(filepath)\n",
        "  elif fileformat == 'excel':\n",
        "    data = pd.read_excel(filepath)\n",
        "\n",
        "  return data"
      ],
      "execution_count": null,
      "outputs": []
    },
    {
      "cell_type": "code",
      "metadata": {
        "id": "03s-pgskmlQr"
      },
      "source": [
        "df_amazon = extractData(\"amazon_baby.csv\",\"csv\")"
      ],
      "execution_count": null,
      "outputs": []
    },
    {
      "cell_type": "code",
      "metadata": {
        "colab": {
          "base_uri": "https://localhost:8080/",
          "height": 206
        },
        "id": "AsuM3SRYsjIq",
        "outputId": "1508a91b-eecf-4d4d-f3a4-b6c6ad614d35"
      },
      "source": [
        "df_amazon.head()"
      ],
      "execution_count": null,
      "outputs": [
        {
          "output_type": "execute_result",
          "data": {
            "text/html": [
              "<div>\n",
              "<style scoped>\n",
              "    .dataframe tbody tr th:only-of-type {\n",
              "        vertical-align: middle;\n",
              "    }\n",
              "\n",
              "    .dataframe tbody tr th {\n",
              "        vertical-align: top;\n",
              "    }\n",
              "\n",
              "    .dataframe thead th {\n",
              "        text-align: right;\n",
              "    }\n",
              "</style>\n",
              "<table border=\"1\" class=\"dataframe\">\n",
              "  <thead>\n",
              "    <tr style=\"text-align: right;\">\n",
              "      <th></th>\n",
              "      <th>name</th>\n",
              "      <th>review</th>\n",
              "      <th>rating</th>\n",
              "    </tr>\n",
              "  </thead>\n",
              "  <tbody>\n",
              "    <tr>\n",
              "      <th>0</th>\n",
              "      <td>Planetwise Flannel Wipes</td>\n",
              "      <td>These flannel wipes are OK, but in my opinion ...</td>\n",
              "      <td>3</td>\n",
              "    </tr>\n",
              "    <tr>\n",
              "      <th>1</th>\n",
              "      <td>Planetwise Wipe Pouch</td>\n",
              "      <td>it came early and was not disappointed. i love...</td>\n",
              "      <td>5</td>\n",
              "    </tr>\n",
              "    <tr>\n",
              "      <th>2</th>\n",
              "      <td>Annas Dream Full Quilt with 2 Shams</td>\n",
              "      <td>Very soft and comfortable and warmer than it l...</td>\n",
              "      <td>5</td>\n",
              "    </tr>\n",
              "    <tr>\n",
              "      <th>3</th>\n",
              "      <td>Stop Pacifier Sucking without tears with Thumb...</td>\n",
              "      <td>This is a product well worth the purchase.  I ...</td>\n",
              "      <td>5</td>\n",
              "    </tr>\n",
              "    <tr>\n",
              "      <th>4</th>\n",
              "      <td>Stop Pacifier Sucking without tears with Thumb...</td>\n",
              "      <td>All of my kids have cried non-stop when I trie...</td>\n",
              "      <td>5</td>\n",
              "    </tr>\n",
              "  </tbody>\n",
              "</table>\n",
              "</div>"
            ],
            "text/plain": [
              "                                                name  ... rating\n",
              "0                           Planetwise Flannel Wipes  ...      3\n",
              "1                              Planetwise Wipe Pouch  ...      5\n",
              "2                Annas Dream Full Quilt with 2 Shams  ...      5\n",
              "3  Stop Pacifier Sucking without tears with Thumb...  ...      5\n",
              "4  Stop Pacifier Sucking without tears with Thumb...  ...      5\n",
              "\n",
              "[5 rows x 3 columns]"
            ]
          },
          "metadata": {},
          "execution_count": 9
        }
      ]
    },
    {
      "cell_type": "code",
      "metadata": {
        "colab": {
          "base_uri": "https://localhost:8080/"
        },
        "id": "KxDDDdSfomJq",
        "outputId": "02d4a396-7e38-4d26-fed8-ab8835a3cc89"
      },
      "source": [
        "len(df_amazon[df_amazon['rating'] == 5])"
      ],
      "execution_count": null,
      "outputs": [
        {
          "output_type": "execute_result",
          "data": {
            "text/plain": [
              "107054"
            ]
          },
          "metadata": {},
          "execution_count": 10
        }
      ]
    },
    {
      "cell_type": "code",
      "metadata": {
        "colab": {
          "base_uri": "https://localhost:8080/",
          "height": 280
        },
        "id": "OloUmpcloqxz",
        "outputId": "33fc1ff9-292f-4e78-a878-f1819055d887"
      },
      "source": [
        "df_amazon['rating'].value_counts().plot.bar()"
      ],
      "execution_count": null,
      "outputs": [
        {
          "output_type": "execute_result",
          "data": {
            "text/plain": [
              "<matplotlib.axes._subplots.AxesSubplot at 0x7f86e6b7f810>"
            ]
          },
          "metadata": {},
          "execution_count": 11
        },
        {
          "output_type": "display_data",
          "data": {
            "image/png": "[encoded data removed]",
            "text/plain": [
              "<Figure size 432x288 with 1 Axes>"
            ]
          },
          "metadata": {
            "needs_background": "light"
          }
        }
      ]
    },
    {
      "cell_type": "code",
      "metadata": {
        "id": "Ggp40kZHqZzw"
      },
      "source": [
        "#Preprocessing\n",
        "# 1. Get subset of 10,000 rows\n",
        "#df_amazon_resized = df_amazon[:10000]\n",
        "dataset_positive = df_amazon[df_amazon['rating'] >= 4][:10000]\n",
        "dataset_negative = df_amazon[df_amazon['rating'] < 4][:10000]\n",
        "df_amazon_resized = pd.concat([dataset_positive, dataset_negative])\n"
      ],
      "execution_count": null,
      "outputs": []
    },
    {
      "cell_type": "code",
      "metadata": {
        "colab": {
          "base_uri": "https://localhost:8080/",
          "height": 206
        },
        "id": "4BqjpJVj29pM",
        "outputId": "80b65006-9aa2-4675-dbbb-c5e355111b78"
      },
      "source": [
        "df_amazon_resized.head()"
      ],
      "execution_count": null,
      "outputs": [
        {
          "output_type": "execute_result",
          "data": {
            "text/html": [
              "<div>\n",
              "<style scoped>\n",
              "    .dataframe tbody tr th:only-of-type {\n",
              "        vertical-align: middle;\n",
              "    }\n",
              "\n",
              "    .dataframe tbody tr th {\n",
              "        vertical-align: top;\n",
              "    }\n",
              "\n",
              "    .dataframe thead th {\n",
              "        text-align: right;\n",
              "    }\n",
              "</style>\n",
              "<table border=\"1\" class=\"dataframe\">\n",
              "  <thead>\n",
              "    <tr style=\"text-align: right;\">\n",
              "      <th></th>\n",
              "      <th>name</th>\n",
              "      <th>review</th>\n",
              "      <th>rating</th>\n",
              "    </tr>\n",
              "  </thead>\n",
              "  <tbody>\n",
              "    <tr>\n",
              "      <th>1</th>\n",
              "      <td>Planetwise Wipe Pouch</td>\n",
              "      <td>it came early and was not disappointed. i love...</td>\n",
              "      <td>5</td>\n",
              "    </tr>\n",
              "    <tr>\n",
              "      <th>2</th>\n",
              "      <td>Annas Dream Full Quilt with 2 Shams</td>\n",
              "      <td>Very soft and comfortable and warmer than it l...</td>\n",
              "      <td>5</td>\n",
              "    </tr>\n",
              "    <tr>\n",
              "      <th>3</th>\n",
              "      <td>Stop Pacifier Sucking without tears with Thumb...</td>\n",
              "      <td>This is a product well worth the purchase.  I ...</td>\n",
              "      <td>5</td>\n",
              "    </tr>\n",
              "    <tr>\n",
              "      <th>4</th>\n",
              "      <td>Stop Pacifier Sucking without tears with Thumb...</td>\n",
              "      <td>All of my kids have cried non-stop when I trie...</td>\n",
              "      <td>5</td>\n",
              "    </tr>\n",
              "    <tr>\n",
              "      <th>5</th>\n",
              "      <td>Stop Pacifier Sucking without tears with Thumb...</td>\n",
              "      <td>When the Binky Fairy came to our house, we did...</td>\n",
              "      <td>5</td>\n",
              "    </tr>\n",
              "  </tbody>\n",
              "</table>\n",
              "</div>"
            ],
            "text/plain": [
              "                                                name  ... rating\n",
              "1                              Planetwise Wipe Pouch  ...      5\n",
              "2                Annas Dream Full Quilt with 2 Shams  ...      5\n",
              "3  Stop Pacifier Sucking without tears with Thumb...  ...      5\n",
              "4  Stop Pacifier Sucking without tears with Thumb...  ...      5\n",
              "5  Stop Pacifier Sucking without tears with Thumb...  ...      5\n",
              "\n",
              "[5 rows x 3 columns]"
            ]
          },
          "metadata": {},
          "execution_count": 13
        }
      ]
    },
    {
      "cell_type": "code",
      "metadata": {
        "id": "MzLJjIPltHZW"
      },
      "source": [
        "import re\n",
        "def preprocessing(text):\n",
        "  text = text.lower()\n",
        "  emoji_pattern = re.compile(\"[\"\n",
        "                               u\"\\U0001F600-\\U0001F64F\"  # emoticons\n",
        "                               u\"\\U0001F300-\\U0001F5FF\"  # symbols & pictographs\n",
        "                               u\"\\U0001F680-\\U0001F6FF\"  # transport & map symbols\n",
        "                               u\"\\U0001F1E0-\\U0001F1FF\"  # flags (iOS)\n",
        "                               u\"\\U00002702-\\U000027B0\"\n",
        "                               u\"\\U000024C2-\\U0001F251\"\n",
        "                               \"]+\", flags=re.UNICODE)\n",
        "  url_pattern = re.compile(r'https?://\\S+|www\\.\\S+')\n",
        "  html_pattern = re.compile('<.*?>')\n",
        "  text = emoji_pattern.sub(r'', text)\n",
        "  text = url_pattern.sub(r'', text)\n",
        "  text = html_pattern.sub(r'', text)\n",
        "  text = re.sub(r\"[^\\w\\d'\\s]+\", '', text)\n",
        "\n",
        "  return text\n",
        "  "
      ],
      "execution_count": null,
      "outputs": []
    },
    {
      "cell_type": "code",
      "metadata": {
        "id": "Vs0zBnVJ0sRw"
      },
      "source": [
        "sentence = []\n",
        "ratings = []\n",
        "for index, row in df_amazon_resized.iterrows():\n",
        "  if type(row['review']) == str:\n",
        "    sentence.append(preprocessing(row['review']))\n",
        "    ratings.append(row['rating'])\n",
        "preprocessed_df = pd.DataFrame(columns=['sentence','ratings'])\n",
        "preprocessed_df['sentence'] = sentence\n",
        "preprocessed_df['ratings'] = ratings"
      ],
      "execution_count": null,
      "outputs": []
    },
    {
      "cell_type": "code",
      "metadata": {
        "colab": {
          "base_uri": "https://localhost:8080/",
          "height": 206
        },
        "id": "R_NzvPgH1qXA",
        "outputId": "a481b7dd-ca85-4c5c-f43c-426ec16c6b4e"
      },
      "source": [
        "preprocessed_df.head()"
      ],
      "execution_count": null,
      "outputs": [
        {
          "output_type": "execute_result",
          "data": {
            "text/html": [
              "<div>\n",
              "<style scoped>\n",
              "    .dataframe tbody tr th:only-of-type {\n",
              "        vertical-align: middle;\n",
              "    }\n",
              "\n",
              "    .dataframe tbody tr th {\n",
              "        vertical-align: top;\n",
              "    }\n",
              "\n",
              "    .dataframe thead th {\n",
              "        text-align: right;\n",
              "    }\n",
              "</style>\n",
              "<table border=\"1\" class=\"dataframe\">\n",
              "  <thead>\n",
              "    <tr style=\"text-align: right;\">\n",
              "      <th></th>\n",
              "      <th>sentence</th>\n",
              "      <th>ratings</th>\n",
              "    </tr>\n",
              "  </thead>\n",
              "  <tbody>\n",
              "    <tr>\n",
              "      <th>0</th>\n",
              "      <td>it came early and was not disappointed i love ...</td>\n",
              "      <td>5</td>\n",
              "    </tr>\n",
              "    <tr>\n",
              "      <th>1</th>\n",
              "      <td>very soft and comfortable and warmer than it l...</td>\n",
              "      <td>5</td>\n",
              "    </tr>\n",
              "    <tr>\n",
              "      <th>2</th>\n",
              "      <td>this is a product well worth the purchase  i h...</td>\n",
              "      <td>5</td>\n",
              "    </tr>\n",
              "    <tr>\n",
              "      <th>3</th>\n",
              "      <td>all of my kids have cried nonstop when i tried...</td>\n",
              "      <td>5</td>\n",
              "    </tr>\n",
              "    <tr>\n",
              "      <th>4</th>\n",
              "      <td>when the binky fairy came to our house we didn...</td>\n",
              "      <td>5</td>\n",
              "    </tr>\n",
              "  </tbody>\n",
              "</table>\n",
              "</div>"
            ],
            "text/plain": [
              "                                            sentence  ratings\n",
              "0  it came early and was not disappointed i love ...        5\n",
              "1  very soft and comfortable and warmer than it l...        5\n",
              "2  this is a product well worth the purchase  i h...        5\n",
              "3  all of my kids have cried nonstop when i tried...        5\n",
              "4  when the binky fairy came to our house we didn...        5"
            ]
          },
          "metadata": {},
          "execution_count": 16
        }
      ]
    },
    {
      "cell_type": "code",
      "metadata": {
        "id": "-CE8hu5k1s58"
      },
      "source": [
        "def sentiment(n):\n",
        "  return 1 if n >=4 else 0"
      ],
      "execution_count": null,
      "outputs": []
    },
    {
      "cell_type": "code",
      "metadata": {
        "id": "yMdrJP91_yaW"
      },
      "source": [
        "preprocessed_df['sentiment'] = preprocessed_df['ratings'].apply(sentiment)"
      ],
      "execution_count": null,
      "outputs": []
    },
    {
      "cell_type": "code",
      "metadata": {
        "colab": {
          "base_uri": "https://localhost:8080/",
          "height": 206
        },
        "id": "HfQ_KaKKABU_",
        "outputId": "d0a505db-b99a-450b-ce4e-e8b47929fcee"
      },
      "source": [
        "preprocessed_df.head()"
      ],
      "execution_count": null,
      "outputs": [
        {
          "output_type": "execute_result",
          "data": {
            "text/html": [
              "<div>\n",
              "<style scoped>\n",
              "    .dataframe tbody tr th:only-of-type {\n",
              "        vertical-align: middle;\n",
              "    }\n",
              "\n",
              "    .dataframe tbody tr th {\n",
              "        vertical-align: top;\n",
              "    }\n",
              "\n",
              "    .dataframe thead th {\n",
              "        text-align: right;\n",
              "    }\n",
              "</style>\n",
              "<table border=\"1\" class=\"dataframe\">\n",
              "  <thead>\n",
              "    <tr style=\"text-align: right;\">\n",
              "      <th></th>\n",
              "      <th>sentence</th>\n",
              "      <th>ratings</th>\n",
              "      <th>sentiment</th>\n",
              "    </tr>\n",
              "  </thead>\n",
              "  <tbody>\n",
              "    <tr>\n",
              "      <th>0</th>\n",
              "      <td>it came early and was not disappointed i love ...</td>\n",
              "      <td>5</td>\n",
              "      <td>1</td>\n",
              "    </tr>\n",
              "    <tr>\n",
              "      <th>1</th>\n",
              "      <td>very soft and comfortable and warmer than it l...</td>\n",
              "      <td>5</td>\n",
              "      <td>1</td>\n",
              "    </tr>\n",
              "    <tr>\n",
              "      <th>2</th>\n",
              "      <td>this is a product well worth the purchase  i h...</td>\n",
              "      <td>5</td>\n",
              "      <td>1</td>\n",
              "    </tr>\n",
              "    <tr>\n",
              "      <th>3</th>\n",
              "      <td>all of my kids have cried nonstop when i tried...</td>\n",
              "      <td>5</td>\n",
              "      <td>1</td>\n",
              "    </tr>\n",
              "    <tr>\n",
              "      <th>4</th>\n",
              "      <td>when the binky fairy came to our house we didn...</td>\n",
              "      <td>5</td>\n",
              "      <td>1</td>\n",
              "    </tr>\n",
              "  </tbody>\n",
              "</table>\n",
              "</div>"
            ],
            "text/plain": [
              "                                            sentence  ratings  sentiment\n",
              "0  it came early and was not disappointed i love ...        5          1\n",
              "1  very soft and comfortable and warmer than it l...        5          1\n",
              "2  this is a product well worth the purchase  i h...        5          1\n",
              "3  all of my kids have cried nonstop when i tried...        5          1\n",
              "4  when the binky fairy came to our house we didn...        5          1"
            ]
          },
          "metadata": {},
          "execution_count": 19
        }
      ]
    },
    {
      "cell_type": "code",
      "metadata": {
        "id": "s7onAluYFmJj"
      },
      "source": [
        "from sklearn.feature_extraction.text import CountVectorizer\n",
        "from sklearn.model_selection import train_test_split"
      ],
      "execution_count": null,
      "outputs": []
    },
    {
      "cell_type": "code",
      "metadata": {
        "id": "TdQ9RTPiK1B3"
      },
      "source": [
        "X, y = preprocessed_df['sentence'].astype('str'), preprocessed_df['sentiment']\n",
        "X_train, X_test, y_train, y_test = train_test_split(X, y, random_state=42)"
      ],
      "execution_count": null,
      "outputs": []
    },
    {
      "cell_type": "code",
      "source": [],
      "metadata": {
        "id": "WFbJIl49KM5k"
      },
      "execution_count": null,
      "outputs": []
    },
    {
      "cell_type": "code",
      "metadata": {
        "id": "ATrMweAzLBOr"
      },
      "source": [
        "import joblib\n",
        "cv = CountVectorizer()\n",
        "X_train_vec = cv.fit_transform(X_train)\n",
        "joblib.dump(cv,'countvector.pkl')\n",
        "X_test_vec= cv.transform(X_test)"
      ],
      "execution_count": null,
      "outputs": []
    },
    {
      "cell_type": "code",
      "metadata": {
        "colab": {
          "base_uri": "https://localhost:8080/"
        },
        "id": "5UyVfxHmLSAe",
        "outputId": "e952bcf0-29f9-406a-95fd-3b021f71c37f"
      },
      "source": [
        "from sklearn import linear_model\n",
        "clf = linear_model.LogisticRegression(max_iter=1000)\n",
        "clf.fit(X_train_vec,y_train)\n",
        "pred = clf.predict(X_test_vec)\n",
        "\n",
        "print(\"accuracy: \", sum(pred==y_test)*1.0/len(y_test))"
      ],
      "execution_count": null,
      "outputs": [
        {
          "output_type": "stream",
          "name": "stdout",
          "text": [
            "accuracy:  0.845028067361668\n"
          ]
        }
      ]
    },
    {
      "cell_type": "code",
      "metadata": {
        "colab": {
          "base_uri": "https://localhost:8080/"
        },
        "id": "6UQHi1k6kDeM",
        "outputId": "73764aad-0800-4ac2-dc4a-b9663bd237fc"
      },
      "source": [
        "joblib.dump(clf,'logistic.pkl')"
      ],
      "execution_count": null,
      "outputs": [
        {
          "output_type": "execute_result",
          "data": {
            "text/plain": [
              "['logistic.pkl']"
            ]
          },
          "metadata": {},
          "execution_count": 25
        }
      ]
    },
    {
      "cell_type": "code",
      "metadata": {
        "colab": {
          "base_uri": "https://localhost:8080/",
          "height": 157
        },
        "id": "_2Ay1mr_e8ol",
        "outputId": "9c57711f-54e3-403e-f027-8073ec30e034"
      },
      "source": [
        "val = df_amazon.iloc[18900]\n",
        "#val['rating']\n",
        "val['review']"
      ],
      "execution_count": null,
      "outputs": [
        {
          "output_type": "execute_result",
          "data": {
            "application/vnd.google.colaboratory.intrinsic+json": {
              "type": "string"
            },
            "text/plain": [
              "\"First off, the video and audio quality were exactly what we were after. No interference and great range around the house and yard. As others have mentioned, there are only 2 channels, and the signal is not secure. Our neighbors have the same monitor and they can see our baby and we can see their baby - luckily we're good friends with them so we're not too worried about this, but this may be a concern for others.The reason why I'm not giving this more stars is the durability of the hand held unit. The battery life was almost non-existent after a year, which I can understand after repeated discharges and re-charges, this forces us to always use the plug and limits mobility for us at times, but this is not a major concern. If replacements were more readily available I would have purchased one.The other problem is with the volume control. We have never dropped the hand held or abused it, but after a little less than 18 months began having problems with the volume control. First it would only work in certain positions, then it began to cut out without warning. This became a problem when I awoke one night to hear our daughter screaming, yet no sound from the monitor, the LED lights were working though. Now it works reliably only at full volume, which can deliver a rude awakening in the middle of the night if our daughter cries out.  We know 2 other people with the exact same monitor, one has no problems other than battery life, the other has the same volume control problem we have.I would consider this monitor again, but would think of it as having only a 2 year life span or less.\""
            ]
          },
          "metadata": {},
          "execution_count": 26
        }
      ]
    },
    {
      "cell_type": "code",
      "metadata": {
        "id": "GR59LFkTguc5"
      },
      "source": [
        "df_amazon[2000:3000]"
      ],
      "execution_count": null,
      "outputs": []
    },
    {
      "cell_type": "code",
      "metadata": {
        "colab": {
          "base_uri": "https://localhost:8080/"
        },
        "id": "j9ZIshAJfOqq",
        "outputId": "5e7a167f-8e1f-4f16-a372-ab3e883a7671"
      },
      "source": [
        "new_text = preprocessing(val['review'])\n",
        "new_text\n",
        "new_text_vec = cv.transform([new_text])\n",
        "pred = clf.predict(new_text_vec)\n",
        "pred"
      ],
      "execution_count": null,
      "outputs": [
        {
          "output_type": "execute_result",
          "data": {
            "text/plain": [
              "array([0])"
            ]
          },
          "metadata": {},
          "execution_count": 27
        }
      ]
    }
  ]
}